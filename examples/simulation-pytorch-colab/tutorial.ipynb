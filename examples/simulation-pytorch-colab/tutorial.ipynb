{
  "cells": [
    {
      "attachments": {},
      "cell_type": "markdown",
      "metadata": {
        "id": "P-iD0bgbXDdC"
      },
      "source": [
        "Welcome to the 30 minutes Flower federated learning tutorial!\n",
        "\n",
        "In this tutorial you will implement your first Federated Learning project using Flower.\n",
        "\n",
        "🧑‍🏫 This tutorial starts at zero and expects no familiarity with federated learning. Only a basic understanding of data science and Python programming is assumed. A minimal understanding of ML is not required but if you already know abou it, nothing is stopping your from modifying this code as you see fit!\n",
        "\n",
        "> Star Flower on [GitHub ⭐️](https://github.com/adap/flower) and join the Flower community on Slack to connect, ask questions, and get help: [Join Slack 🌼](https://flower.dev/join-slack/). We'd love to hear from you in the #introductions channel! And if anything is unclear, head over to the #questions channel.\n",
        "\n",
        "Let's get stated!"
      ]
    },
    {
      "attachments": {},
      "cell_type": "markdown",
      "metadata": {
        "id": "jfy1EuX7Xzfg"
      },
      "source": [
        "# Environment Setup\n",
        "\n",
        "To start working with Flower, very little is required once you have activated your Python environment (e.g. via `conda`, `virtualenv`, `pyenv`, etc). If you are running this code on Colab, there is really nothing to do except to install Flower and other dependencies. The steps below have been verified to run in Colab. Let's first, install Flower, then the ML framework of your choice and extra dependencies you might want to use.\n",
        "\n",
        "## Installing Flower\n",
        "\n",
        "You can install flower very conveniently from `pip`:"
      ]
    },
    {
      "cell_type": "code",
      "execution_count": 1,
      "metadata": {
        "id": "Gc_GOyNXXB35"
      },
      "outputs": [],
      "source": [
        "# depending on your shell, you might need to add `\\` before `[` and `]`.\n",
        "!pip install -q flwr[simulation]"
      ]
    },
    {
      "attachments": {},
      "cell_type": "markdown",
      "metadata": {
        "id": "y58HdudsYWQP"
      },
      "source": [
        "We will be using the _simulation_ model in Flower, which allows you to run a large number of clients without the overheads of manually managing devices. This is achieved via the [Virtual Client Engine]() in Flower. With simulation, you can dynamically scale your experiments whether you run the code on your laptop, a machine with a single GPU, a server with multiple GPUs os even on a cluster with multiple servers. The `Virtual Client Engine` handles everyting transparently and it allows you to specify how many resources (e.g. CPU cores, GPU VRAM) should be assigned to each virtual client."
      ]
    },
    {
      "attachments": {},
      "cell_type": "markdown",
      "metadata": {
        "id": "2rkzo1M9a0io"
      },
      "source": [
        "## Install your ML framework\n",
        "\n",
        "Flower is agnostic to your choice of ML Framework. Flower works with `PyTorch`, `Tensorflow`, `NumPy`, `🤗 Transformers`, `MXNet`, `JAX`, `scikit-learn`, `fastai`, `Pandas`. Flower also supports all major platforms: `iOS`, `Android` and plain `C++`. You can find a _quickstart- example for each of the above in the [Flower Repository](https://github.com/adap/flower/tree/main/examples) inside the `examples/` directory.\n",
        "\n",
        "In this tutorial we are going to use PyTorch, so let's install a recent version. In this tutorial we'll use a small model so using CPU only training will suffice (this will also prevent Colab from abrumptly terminating your experiment if resource limits are exceeded)"
      ]
    },
    {
      "cell_type": "code",
      "execution_count": 2,
      "metadata": {
        "colab": {
          "base_uri": "https://localhost:8080/"
        },
        "id": "lqrJYPbZZ8aM",
        "outputId": "7192138a-8c87-4d9a-f726-af1038ad264c"
      },
      "outputs": [
        {
          "name": "stdout",
          "output_type": "stream",
          "text": [
            "Looking in indexes: https://pypi.org/simple, https://download.pytorch.org/whl/cpu\n",
            "Requirement already satisfied: torch==1.13.1+cpu in /usr/local/lib/python3.10/dist-packages (1.13.1+cpu)\n",
            "Requirement already satisfied: torchvision==0.14.1+cpu in /usr/local/lib/python3.10/dist-packages (0.14.1+cpu)\n",
            "Requirement already satisfied: torchaudio==0.13.1 in /usr/local/lib/python3.10/dist-packages (0.13.1+cpu)\n",
            "Requirement already satisfied: typing-extensions in /usr/local/lib/python3.10/dist-packages (from torch==1.13.1+cpu) (4.6.3)\n",
            "Requirement already satisfied: numpy in /usr/local/lib/python3.10/dist-packages (from torchvision==0.14.1+cpu) (1.22.4)\n",
            "Requirement already satisfied: requests in /usr/local/lib/python3.10/dist-packages (from torchvision==0.14.1+cpu) (2.27.1)\n",
            "Requirement already satisfied: pillow!=8.3.*,>=5.3.0 in /usr/local/lib/python3.10/dist-packages (from torchvision==0.14.1+cpu) (8.4.0)\n",
            "Requirement already satisfied: urllib3<1.27,>=1.21.1 in /usr/local/lib/python3.10/dist-packages (from requests->torchvision==0.14.1+cpu) (1.26.16)\n",
            "Requirement already satisfied: certifi>=2017.4.17 in /usr/local/lib/python3.10/dist-packages (from requests->torchvision==0.14.1+cpu) (2023.5.7)\n",
            "Requirement already satisfied: charset-normalizer~=2.0.0 in /usr/local/lib/python3.10/dist-packages (from requests->torchvision==0.14.1+cpu) (2.0.12)\n",
            "Requirement already satisfied: idna<4,>=2.5 in /usr/local/lib/python3.10/dist-packages (from requests->torchvision==0.14.1+cpu) (3.4)\n"
          ]
        }
      ],
      "source": [
        "# you might see a warning after running the command below, this can be ignored\n",
        "!pip install torch==1.13.1+cpu torchvision==0.14.1+cpu torchaudio==0.13.1 --extra-index-url https://download.pytorch.org/whl/cpu"
      ]
    },
    {
      "attachments": {},
      "cell_type": "markdown",
      "metadata": {
        "id": "4UTuRurVeLDF"
      },
      "source": [
        "We are going to install some other dependencies you are likely familiar with. We'll use these to make plots."
      ]
    },
    {
      "cell_type": "code",
      "execution_count": 3,
      "metadata": {
        "colab": {
          "base_uri": "https://localhost:8080/"
        },
        "id": "ybSlTUVXeT3u",
        "outputId": "58b7af77-609f-4118-bd5b-5629a4b5a296"
      },
      "outputs": [
        {
          "name": "stdout",
          "output_type": "stream",
          "text": [
            "Requirement already satisfied: matplotlib in /usr/local/lib/python3.10/dist-packages (3.7.1)\n",
            "Requirement already satisfied: contourpy>=1.0.1 in /usr/local/lib/python3.10/dist-packages (from matplotlib) (1.1.0)\n",
            "Requirement already satisfied: cycler>=0.10 in /usr/local/lib/python3.10/dist-packages (from matplotlib) (0.11.0)\n",
            "Requirement already satisfied: fonttools>=4.22.0 in /usr/local/lib/python3.10/dist-packages (from matplotlib) (4.40.0)\n",
            "Requirement already satisfied: kiwisolver>=1.0.1 in /usr/local/lib/python3.10/dist-packages (from matplotlib) (1.4.4)\n",
            "Requirement already satisfied: numpy>=1.20 in /usr/local/lib/python3.10/dist-packages (from matplotlib) (1.22.4)\n",
            "Requirement already satisfied: packaging>=20.0 in /usr/local/lib/python3.10/dist-packages (from matplotlib) (23.1)\n",
            "Requirement already satisfied: pillow>=6.2.0 in /usr/local/lib/python3.10/dist-packages (from matplotlib) (8.4.0)\n",
            "Requirement already satisfied: pyparsing>=2.3.1 in /usr/local/lib/python3.10/dist-packages (from matplotlib) (3.1.0)\n",
            "Requirement already satisfied: python-dateutil>=2.7 in /usr/local/lib/python3.10/dist-packages (from matplotlib) (2.8.2)\n",
            "Requirement already satisfied: six>=1.5 in /usr/local/lib/python3.10/dist-packages (from python-dateutil>=2.7->matplotlib) (1.16.0)\n"
          ]
        }
      ],
      "source": [
        "!pip install matplotlib"
      ]
    },
    {
      "attachments": {},
      "cell_type": "markdown",
      "metadata": {
        "id": "mpmcL_STdjIo"
      },
      "source": [
        "# Centralised training: the old way of doing ML"
      ]
    },
    {
      "attachments": {},
      "cell_type": "markdown",
      "metadata": {
        "id": "gvw2TZjSec6C"
      },
      "source": [
        "Let's begin by creating a simple (but complete) training loop as it is commonly done in centralised setups. Starting our tutorial in this way will allow us to very clearly identify which parts of a typical ML pipeline are common to both centralised and federated training and which ones are poles a part.\n",
        "\n",
        "For this tutorial we'll design a image classification pipeline for [MNIST digits](https://en.wikipedia.org/wiki/MNIST_database) and using a simple CNN model as the network to train. The MNIST dataset is comprised of `28x28` greyscale images with digits from 0 to 9 (i.e. 10 classes in total)\n",
        "\n",
        "\n",
        "## A dataset\n",
        "\n",
        "Let's begin by constructing the dataset."
      ]
    },
    {
      "cell_type": "code",
      "execution_count": 4,
      "metadata": {
        "id": "p9aFBjd1cpHs"
      },
      "outputs": [],
      "source": [
        "# we naturally first need to import torch and torchvision\n",
        "import torch\n",
        "from torch.utils.data import DataLoader\n",
        "from torchvision.transforms import ToTensor, Normalize, Compose\n",
        "from torchvision.datasets import MNIST\n",
        "\n",
        "\n",
        "def get_mnist(data_path: str = './data'):\n",
        "    '''This function downloads the MNIST dataset into the `data_path`\n",
        "    directory if it is not there already. WE construct the train/test\n",
        "    split by converting the images into tensors and normalising them'''\n",
        "\n",
        "    # transformation to conver images to tensors and apply normailsation\n",
        "    tr = Compose([ToTensor(), Normalize((0.1307,), (0.3081,))])\n",
        "\n",
        "    # prepare train and test set\n",
        "    trainset = MNIST(data_path, train=True, download=True, transform=tr)\n",
        "    testset = MNIST(data_path, train=False, download=True, transform=tr)\n",
        "\n",
        "    return trainset, testset"
      ]
    },
    {
      "attachments": {},
      "cell_type": "markdown",
      "metadata": {
        "id": "vKoQfqgYgwg0"
      },
      "source": [
        "Let's run the code above and do some visualisations to understand better the data we are working with !"
      ]
    },
    {
      "cell_type": "code",
      "execution_count": 5,
      "metadata": {
        "id": "pS8sL2hDgvZN"
      },
      "outputs": [],
      "source": [
        "trainset, testset = get_mnist()"
      ]
    },
    {
      "attachments": {},
      "cell_type": "markdown",
      "metadata": {
        "id": "iNA-6AcYhYVM"
      },
      "source": [
        "We can have a quick overview of our datasets by just typing the object on the command line. For instance, below you can see that the `trainset` has 60k training examples and will use the transformation rule we defined above in `get_mnist()`."
      ]
    },
    {
      "cell_type": "code",
      "execution_count": 6,
      "metadata": {
        "colab": {
          "base_uri": "https://localhost:8080/"
        },
        "id": "pWsIHsq-g4nX",
        "outputId": "f10b649f-3cee-4e86-c7ff-94bd1fd3e082"
      },
      "outputs": [
        {
          "data": {
            "text/plain": [
              "Dataset MNIST\n",
              "    Number of datapoints: 60000\n",
              "    Root location: ./data\n",
              "    Split: Train\n",
              "    StandardTransform\n",
              "Transform: Compose(\n",
              "               ToTensor()\n",
              "               Normalize(mean=(0.1307,), std=(0.3081,))\n",
              "           )"
            ]
          },
          "execution_count": 6,
          "metadata": {},
          "output_type": "execute_result"
        }
      ],
      "source": [
        "trainset"
      ]
    },
    {
      "attachments": {},
      "cell_type": "markdown",
      "metadata": {
        "id": "NY9bWlaMhweq"
      },
      "source": [
        "Let's create a more insightful visualisation. First let's see the distribution over the labels by constructing a histogram. Then, let's visualise some training examples !"
      ]
    },
    {
      "cell_type": "code",
      "execution_count": 7,
      "metadata": {
        "colab": {
          "base_uri": "https://localhost:8080/",
          "height": 490
        },
        "id": "DCTjwpizikwy",
        "outputId": "c8d0f4c0-60cd-4c58-bc91-3b061dae8046"
      },
      "outputs": [
        {
          "data": {
            "text/plain": [
              "Text(0.5, 1.0, 'Class labels distribution for MNIST')"
            ]
          },
          "execution_count": 7,
          "metadata": {},
          "output_type": "execute_result"
        },
        {
          "data": {
            "image/png": "[encoded data removed]",
            "text/plain": [
              "<Figure size 640x480 with 1 Axes>"
            ]
          },
          "metadata": {},
          "output_type": "display_data"
        }
      ],
      "source": [
        "import matplotlib.pyplot as plt\n",
        "\n",
        "\n",
        "# construct histogram\n",
        "all_labels = trainset.targets\n",
        "num_possible_labels = len(set(all_labels.numpy().tolist())) # this counst unique labels (so it should be = 10)\n",
        "plt.hist(all_labels, bins=num_possible_labels)\n",
        "\n",
        "# plot formatting\n",
        "plt.xticks(range(num_possible_labels))\n",
        "plt.grid()\n",
        "plt.xlabel('Label')\n",
        "plt.ylabel('Number of images')\n",
        "plt.title('Class labels distribution for MNIST')"
      ]
    },
    {
      "cell_type": "code",
      "execution_count": 8,
      "metadata": {
        "id": "ExGypiVsjMUv"
      },
      "outputs": [],
      "source": [
        "import random\n",
        "import numpy as np\n",
        "\n",
        "def visualise_n_random_examples(trainset_, n: int, verbose: bool = True):\n",
        "  # take n examples at random\n",
        "  idx =list(range(len(trainset_.data)))\n",
        "  random.shuffle(idx)\n",
        "  idx = idx[:n]\n",
        "  if verbose:\n",
        "    print(f\"will display images with idx: {idx}\")\n",
        "\n",
        "\n",
        "  # construct canvas\n",
        "  num_cols = 8\n",
        "  num_rows = int(np.ceil(len(idx)/num_cols))\n",
        "  fig, axs = plt.subplots(figsize=(16, num_rows*2), nrows=num_rows, ncols=num_cols)\n",
        "\n",
        "  # display images on canvas\n",
        "  for c_i, i in enumerate(idx):\n",
        "    axs.flat[c_i].imshow(trainset_.data[i], cmap='gray')"
      ]
    },
    {
      "attachments": {},
      "cell_type": "markdown",
      "metadata": {
        "id": "K7-K0bKamho7"
      },
      "source": [
        "Let's visualise 32 images from the dataset\n"
      ]
    },
    {
      "cell_type": "code",
      "execution_count": 9,
      "metadata": {
        "colab": {
          "base_uri": "https://localhost:8080/",
          "height": 715
        },
        "id": "xA2s8vqkmkga",
        "outputId": "4e0988a8-388d-4acf-882b-089e4ea887bf"
      },
      "outputs": [
        {
          "name": "stdout",
          "output_type": "stream",
          "text": [
            "will display images with idx: [18077, 44124, 19682, 49659, 10015, 8533, 31538, 54538, 47399, 21484, 48585, 54479, 37876, 48619, 56532, 17465, 31971, 46137, 31245, 52150, 53427, 34722, 58699, 40202, 43028, 56702, 3674, 24352, 50219, 18185, 28229, 39197]\n"
          ]
        },
        {
          "data": {
            "image/png": "[encoded data removed]",
            "text/plain": [
              "<Figure size 1600x800 with 32 Axes>"
            ]
          },
          "metadata": {},
          "output_type": "display_data"
        }
      ],
      "source": [
        "# it is likely that the plot this function will generate looks familiar to other plots you might have generated before\n",
        "# or you might have encountered in other tutorials. So far, we aren't doing anytning new, Federated Learning will start soon!\n",
        "visualise_n_random_examples(trainset, n=32)"
      ]
    },
    {
      "attachments": {},
      "cell_type": "markdown",
      "metadata": {
        "id": "PmGyjFEFhVwd"
      },
      "source": [
        "# A CNN architecture\n",
        "\n",
        "Thist tutorial is not so much about novel architectural designs so we keep things simple and make use of a typical CNN that is adequate for the MNIST image classification taks.\n",
        "\n"
      ]
    },
    {
      "cell_type": "code",
      "execution_count": 10,
      "metadata": {
        "id": "Nr4jR6tspOh4"
      },
      "outputs": [],
      "source": [
        "import torch.nn as nn\n",
        "import torch.nn.functional as F\n",
        "\n",
        "class Net(nn.Module):\n",
        "    def __init__(self, num_classes: int) -> None:\n",
        "        super(Net, self).__init__()\n",
        "        self.conv1 = nn.Conv2d(1, 6, 5)\n",
        "        self.pool = nn.MaxPool2d(2, 2)\n",
        "        self.conv2 = nn.Conv2d(6, 16, 5)\n",
        "        self.fc1 = nn.Linear(16 * 4 * 4, 120)\n",
        "        self.fc2 = nn.Linear(120, 84)\n",
        "        self.fc3 = nn.Linear(84, num_classes)\n",
        "\n",
        "    def forward(self, x: torch.Tensor) -> torch.Tensor:\n",
        "        x = self.pool(F.relu(self.conv1(x)))\n",
        "        x = self.pool(F.relu(self.conv2(x)))\n",
        "        x = x.view(-1, 16 * 4 * 4)\n",
        "        x = F.relu(self.fc1(x))\n",
        "        x = F.relu(self.fc2(x))\n",
        "        x = self.fc3(x)\n",
        "        return x"
      ]
    },
    {
      "attachments": {},
      "cell_type": "markdown",
      "metadata": {
        "id": "5TJrrCBlpZOp"
      },
      "source": [
        "Similarly to what we did with the dataset you could inspect the model in various ways. We can, for instance, count the number of model parameters."
      ]
    },
    {
      "cell_type": "code",
      "execution_count": 11,
      "metadata": {
        "colab": {
          "base_uri": "https://localhost:8080/"
        },
        "id": "zdVK9c4hpYaC",
        "outputId": "67d01ab4-cdd9-4661-8f01-eaa9aabf786d"
      },
      "outputs": [
        {
          "name": "stdout",
          "output_type": "stream",
          "text": [
            "num_parameters = 44426\n"
          ]
        }
      ],
      "source": [
        "model = Net(num_classes=10)\n",
        "num_parameters = sum(value.numel() for value in model.state_dict().values())\n",
        "print(f\"{num_parameters = }\")"
      ]
    },
    {
      "attachments": {},
      "cell_type": "markdown",
      "metadata": {
        "id": "XAXzw1dlp_oO"
      },
      "source": [
        "## The Training Loop\n",
        "\n",
        "A minimal training loop in PyTorch can be constructed with three functions:\n",
        "*  `train()` that will train the model given a dataloader.\n",
        "* `test()` that will be used to evaluate the performance of the model on held-out data, e.g., a training set.\n",
        "* `run_centralised()` which will define additional elements (e.g. the optimiser) and run the training loop over N epochs.\n",
        "\n",
        "Let's construct these functions!\n"
      ]
    },
    {
      "cell_type": "code",
      "execution_count": 12,
      "metadata": {
        "id": "DRhz5bcfpw06"
      },
      "outputs": [],
      "source": [
        "def train(net, trainloader, optimizer, epochs):\n",
        "    \"\"\"Train the network on the training set.\"\"\"\n",
        "    criterion = torch.nn.CrossEntropyLoss()\n",
        "    net.train()\n",
        "    for _ in range(epochs):\n",
        "        for images, labels in trainloader:\n",
        "            optimizer.zero_grad()\n",
        "            loss = criterion(net(images), labels)\n",
        "            loss.backward()\n",
        "            optimizer.step()\n",
        "    return net\n",
        "\n",
        "def test(net, testloader):\n",
        "    \"\"\"Validate the network on the entire test set.\"\"\"\n",
        "    criterion = torch.nn.CrossEntropyLoss()\n",
        "    correct, loss = 0, 0.0\n",
        "    net.eval()\n",
        "    with torch.no_grad():\n",
        "        for images, labels in testloader:\n",
        "            outputs = net(images)\n",
        "            loss += criterion(outputs, labels).item()\n",
        "            _, predicted = torch.max(outputs.data, 1)\n",
        "            correct += (predicted == labels).sum().item()\n",
        "    accuracy = correct / len(testloader.dataset)\n",
        "    return loss, accuracy\n",
        "\n",
        "\n",
        "def run_centralised(epochs: int, lr: float, momentum: float=0.9):\n",
        "    \"\"\"A minimal (but complete) training loop\"\"\"\n",
        "\n",
        "    # instantiate the model\n",
        "    model = Net(num_classes=10)\n",
        "\n",
        "    # define optimiser with hyperparameters supplied\n",
        "    optim = torch.optim.SGD(model.parameters(), lr=lr, momentum=momentum)\n",
        "\n",
        "    # get dataset and construct a dataloaders\n",
        "    trainset, testset = get_mnist()\n",
        "    trainloader = DataLoader(trainset, batch_size=64, shuffle=True, num_workers=2)\n",
        "    testloader = DataLoader(testset, batch_size=128)\n",
        "\n",
        "    # train for the specified number of epochs\n",
        "    trained_model = train(model, trainloader, optim, epochs)\n",
        "\n",
        "    # training is completed, then evaluate model on the test set\n",
        "    loss, accuracy = test(trained_model, testloader)\n",
        "    print(f\"{loss = }\")\n",
        "    print(f\"{accuracy = }\")"
      ]
    },
    {
      "attachments": {},
      "cell_type": "markdown",
      "metadata": {
        "id": "76Q0UnqiukYT"
      },
      "source": [
        "Let's run this for 5 epochs (you'll see it reaching close to 99% accuracy -- as expected from a centralised setup with the MNIST dataset)"
      ]
    },
    {
      "cell_type": "code",
      "execution_count": 13,
      "metadata": {
        "colab": {
          "base_uri": "https://localhost:8080/"
        },
        "id": "xgJ6mdNSqzpI",
        "outputId": "e8d9b429-178d-4924-e82f-4d4e52863788"
      },
      "outputs": [
        {
          "name": "stdout",
          "output_type": "stream",
          "text": [
            "loss = 3.6453518660127884\n",
            "accuracy = 0.9865\n"
          ]
        }
      ],
      "source": [
        "run_centralised(epochs=5, lr=0.01)"
      ]
    },
    {
      "attachments": {},
      "cell_type": "markdown",
      "metadata": {
        "id": "pyz2gQaluw-5"
      },
      "source": [
        "The above centralised formulation has worked just fine for some applications and to showcase the potential of AI in a variety of scenarios. However, as was discussed earlier in the session, centralised training is unsuitable for a larger range of settings were information cannot be collected in order to build a unified (centralised) dataset.\n",
        "\n",
        "# The Future of AI is Federated\n",
        "\n",
        "What are the key differences between Federated Learning and Centralised Training? I you could only pick you, probably you'd say:\n",
        "* Federated Learning is distributed -- the model is trained on-device by the participating clients.\n",
        "* Data remains private and is owned by a specific _client_ -- the data is never sent to the central server.\n",
        "\n",
        "The are several more differences. But the above two are the main ones to always consider and that are common to all flavours of Federated Learning (e.g. _cross-device_ or _cross-silo_). The remaining of this tutorial is going to focus in transforming the code we have written so far for the centralised setting and construct a Federated Learning pipeline using Flower and PyTorch.\n",
        "\n",
        "Let's begin! 🚀"
      ]
    },
    {
      "attachments": {},
      "cell_type": "markdown",
      "metadata": {
        "id": "-Jv-H2HBzbPA"
      },
      "source": [
        "## One Client, One Data Partition\n",
        "\n",
        "To start designing a Federated Learning pipeline we need to meet one of the key properties in FL: each client has its own data partition. To acomplish this with the MNIST dataset, we are going to generate N random paritions, where N is the total number of clients in our FL system."
      ]
    },
    {
      "cell_type": "code",
      "execution_count": 14,
      "metadata": {
        "id": "Lgc5C6yltJCv"
      },
      "outputs": [],
      "source": [
        "from torch.utils.data import random_split\n",
        "\n",
        "def prepare_dataset(num_partitions: int,\n",
        "                    batch_size: int,\n",
        "                    val_ratio: float = 0.1):\n",
        "\n",
        "    \"\"\"This function partitions the training set into N disjoint\n",
        "    subsets, each will become the local dataset of a client. This\n",
        "    function also subsequently partitions each traininsetg partition\n",
        "    into train and validation. The test set is left intact and will\n",
        "    be used by the central server to asses the performance of the\n",
        "    global model. \"\"\"\n",
        "\n",
        "    # get the MNIST datatset\n",
        "    trainset, testset = get_mnist()\n",
        "\n",
        "    # split trainset into `num_partitions` trainsets\n",
        "    num_images = len(trainset) // num_partitions\n",
        "\n",
        "    partition_len = [num_images] * num_partitions\n",
        "\n",
        "    trainsets = random_split(trainset, partition_len, torch.Generator().manual_seed(2023))\n",
        "\n",
        "    # create dataloaders with train+val support\n",
        "    trainloaders = []\n",
        "    valloaders = []\n",
        "    for trainset_ in trainsets:\n",
        "        num_total = len(trainset_)\n",
        "        num_val = int(val_ratio * num_total)\n",
        "        num_train = num_total - num_val\n",
        "\n",
        "        for_train, for_val = random_split(trainset_, [num_train, num_val], torch.Generator().manual_seed(2023))\n",
        "\n",
        "        trainloaders.append(DataLoader(for_train, batch_size=batch_size, shuffle=True, num_workers=2))\n",
        "        valloaders.append(DataLoader(for_val, batch_size=batch_size, shuffle=False, num_workers=2))\n",
        "\n",
        "    # create dataloader for the test set\n",
        "    testloader = DataLoader(testset, batch_size=128)\n",
        "\n",
        "    return trainloaders, valloaders, testloader"
      ]
    },
    {
      "attachments": {},
      "cell_type": "markdown",
      "metadata": {
        "id": "9sXWjalq-G39"
      },
      "source": [
        "Let's create 100 partitions and extract some statistics from one partition\n"
      ]
    },
    {
      "cell_type": "code",
      "execution_count": 15,
      "metadata": {
        "colab": {
          "base_uri": "https://localhost:8080/",
          "height": 508
        },
        "id": "I0LbJhrC0evC",
        "outputId": "0f53ca81-cb55-46ef-c8e0-4e19a4f060b2"
      },
      "outputs": [
        {
          "name": "stdout",
          "output_type": "stream",
          "text": [
            "number of images: 540\n"
          ]
        },
        {
          "data": {
            "text/plain": [
              "Text(0.5, 1.0, 'Class labels distribution for MNIST')"
            ]
          },
          "execution_count": 15,
          "metadata": {},
          "output_type": "execute_result"
        },
        {
          "data": {
            "image/png": "[encoded data removed]",
            "text/plain": [
              "<Figure size 640x480 with 1 Axes>"
            ]
          },
          "metadata": {},
          "output_type": "display_data"
        }
      ],
      "source": [
        "trainloaders, valloaders, testloader = prepare_dataset(num_partitions=100,\n",
        "                                                       batch_size=32)\n",
        "\n",
        "# first partition\n",
        "train_partition = trainloaders[0].dataset\n",
        "\n",
        "# count data points\n",
        "partition_indices = train_partition.indices\n",
        "print(f\"number of images: {len(partition_indices)}\")\n",
        "\n",
        "# visualise histogram\n",
        "plt.hist(train_partition.dataset.dataset.targets[partition_indices], bins=10)\n",
        "plt.grid()\n",
        "plt.xticks(range(10))\n",
        "plt.xlabel('Label')\n",
        "plt.ylabel('Number of images')\n",
        "plt.title('Class labels distribution for MNIST')"
      ]
    },
    {
      "attachments": {},
      "cell_type": "markdown",
      "metadata": {
        "id": "me-cNRBO_-fa"
      },
      "source": [
        "As you can see, the histogram of this partition is a bit different from the one we obtained at the beginnig where we took the entire dataset into consideration. Because our data partitions are artificially constructed by sampling the MNIST dataset in an IID fashion, our Federated Learning example will not face sever _data heterogeneity_ issues (which is a fairly [active research topic](https://arxiv.org/abs/1912.04977)).\n",
        "\n",
        "Let's next define how our FL clients will behave\n",
        "\n",
        "## Defining a Flower Client\n",
        "\n",
        "You can think of a client in FL as an entity that owns some data and trains a model using this data. The caveat is that the model is being trained _collaboratively_ in Federation by multiple clients (sometimes up to hundreds of thousands) and, in most instances of FL, is sent by a central server.\n",
        "\n",
        "A Flower Client is a simmple Python class with four distinct methods:\n",
        "\n",
        "* `fit()`: With this method, the client does on-device training for a number of epochs using its own data. At the end, the resulting model is sent back to the server for aggregation.\n",
        "\n",
        "* `evaluate()`: With this method, the server can evaluate the performance of the global model on the local validation set of a client. This can be used for instance when there is no centralised dataset on the server for validation/test. Also, this method can be use to asses the degree of personalisation of the model being federated.\n",
        "\n",
        "* `set_parameters()`: This method takes the parameters sent by the server and uses them to initialise the parameters of the lcoal model that is ML framework specific (e.g. TF, Pytorch, etc).\n",
        "\n",
        "* `get_parameters()`: It extract the parameters from the local model and transforms them into a list of NumPy arrays. This ML framework-agnostic representation of the model will be sent to the server.\n",
        "\n",
        "Let's start by importing Flower!"
      ]
    },
    {
      "cell_type": "code",
      "execution_count": 16,
      "metadata": {
        "id": "GckcVE2hH5UV"
      },
      "outputs": [],
      "source": [
        "import flwr as fl"
      ]
    },
    {
      "attachments": {},
      "cell_type": "markdown",
      "metadata": {
        "id": "w3zwIYgVH5wU"
      },
      "source": [
        "Now let's defice our Flower Client class:"
      ]
    },
    {
      "cell_type": "code",
      "execution_count": 17,
      "metadata": {
        "id": "uXdiNmCE_90y"
      },
      "outputs": [],
      "source": [
        "from collections import OrderedDict\n",
        "from typing import Dict, Tuple\n",
        "\n",
        "import torch\n",
        "from flwr.common import NDArrays, Scalar\n",
        "\n",
        "class FlowerClient(fl.client.NumPyClient):\n",
        "    def __init__(self,\n",
        "                 trainloader,\n",
        "                 vallodaer) -> None:\n",
        "        super().__init__()\n",
        "\n",
        "        self.trainloader = trainloader\n",
        "        self.valloader = vallodaer\n",
        "        self.model = Net(num_classes=10)\n",
        "\n",
        "    def set_parameters(self, parameters):\n",
        "        \"\"\"With the model paramters received from the server,\n",
        "        overwrite the uninitialise model in this class with them.\"\"\"\n",
        "\n",
        "        params_dict = zip(self.model.state_dict().keys(), parameters)\n",
        "        state_dict = OrderedDict({k: torch.Tensor(v) for k, v in params_dict})\n",
        "        # now replace the parameters\n",
        "        self.model.load_state_dict(state_dict, strict=True)\n",
        "\n",
        "    def get_parameters(self, config: Dict[str, Scalar]):\n",
        "        \"\"\"Extract all model parameters and conver them to a list of\n",
        "        NumPy arryas. The server doesn't work with PyTorch/TF/etc.\"\"\"\n",
        "        return [val.cpu().numpy() for _, val in self.model.state_dict().items()]\n",
        "\n",
        "    def fit(self, parameters, config):\n",
        "        \"\"\"This method train the model using the parameters sent by the\n",
        "        server on the dataset of this client. At then end, the parameters\n",
        "        of the locally trained model are communicated back to the server\"\"\"\n",
        "\n",
        "        # copy parameters sent by the server into client's local model\n",
        "        self.set_parameters(parameters)\n",
        "\n",
        "        # Define the optimizer -------------------------------------------------------------- Essentaillly the same as in the centralised example above\n",
        "        optim = torch.optim.SGD(self.model.parameters(), lr=0.01, momentum=0.9)\n",
        "\n",
        "        # do local training  -------------------------------------------------------------- Essentaillly the same as in the centralised example above (but now using the client's data instead of the whole dataset)\n",
        "        train(self.model, self.trainloader, optim, epochs=1)\n",
        "\n",
        "        # return the model parameters to the server as well as extra info (number of training examples in this case)\n",
        "        return self.get_parameters({}), len(self.trainloader), {}\n",
        "\n",
        "    def evaluate(self, parameters: NDArrays, config: Dict[str, Scalar]):\n",
        "        \"\"\"Evaluate the model sent by the server on this client's\n",
        "        local validation set. Then return performance metrics.\"\"\"\n",
        "\n",
        "        self.set_parameters(parameters)\n",
        "        loss, accuracy = test(self.model, self.valloader) # <-------------------------- calls the `test` function, just what we did in the centralised setting (but this time using the client's local validation set)\n",
        "        # send statistics back to the server\n",
        "        return float(loss), len(self.valloader), {'accuracy': accuracy}"
      ]
    },
    {
      "attachments": {},
      "cell_type": "markdown",
      "metadata": {
        "id": "d5Ku-Z_1Jkvz"
      },
      "source": [
        "Spend a few minutes to inspect the `FlowerClient` class above. Please ask questions if there is something unclear !\n",
        "\n",
        "Then keeneyed among you might have realised that if we were to fuse the client's `fit()` and `evaluate()` methods, we'll end up with essentially the same as in the `run_centralised()` function we used in the Centralised Training part of this tutorial. And it is true!! In Federated Learning, the way clients perform local training makes use of the same principles as more traditional centralised setup. The key difference is that the dataset now is much smaller and it's never _\"seen\"_ by the entity running the FL workload (i.e. the central server).\n",
        "\n",
        "\n",
        "Talking baout the central server... we should define what strategy we want to make use of so the updated models sent from the clients back to the server at the end of the `fit()` method are aggregate.\n",
        "\n",
        "\n",
        "## Chosing a Flower Strategy\n",
        "\n",
        "\n",
        "A strategy sits at the core of the Federated Learining experiment. It is involved in all stages of a FL pipeline: sampling clients; sending the _global model_ to the clients so they can do `fit()`; receive the updated models from the clients and **aggregate** these to construct a new _global model_; define and exectue global or federated evaluation; and more.\n",
        "\n",
        "Flower comes with [many strategies built-in](https://github.com/adap/flower/tree/main/src/py/flwr/server/strategy) and more to be avaialable in the next release (`1.5` already!). For this tutorial, let's use what is arguable the most popular strategy out there: `FedAvg`.\n",
        "\n",
        "The way `FedAvg` works is simple but performs surprisingly well in practice. It is therefore one good strategy to start your experimentation. `FedAvg`, as its name implies, derieves a new version of the _global model_ by taking the average of all the models sent by clients participating in the round. You can read all the details [in the paper](https://arxiv.org/abs/1602.05629).\n",
        "\n",
        "Let's see how we can define `FedAvg` using Flower. We use one of the callbacks called `evaluate_fn` so we can easily evaluate the state of the global model using a small centralised testset. Note this functionality is user-defined since it requires a choice in terms of ML-framework. (if you recall, Flower is framework agnostic).\n",
        "\n",
        "> This being said, centralised evaluation of the global model is only possible if there exists a centralised dataset that somewhat follows a similar distribution as the data that's spread across clients. In some cases having such centralised dataset for validation is not possible, so the only solution is to federate the evaluation of the _global model_. This is the default behaviour in Flower. If you don't specify teh `evaluate_fn` arguemtn in your strategy, then, centralised global evaluation won't be perfromed."
      ]
    },
    {
      "cell_type": "code",
      "execution_count": 18,
      "metadata": {
        "id": "gUmUpH5t-Urn"
      },
      "outputs": [],
      "source": [
        "def get_evalulate_fn(testloader):\n",
        "    \"\"\"This is a function that returns a function. The returned\n",
        "    function (i.e. `evaluate_fn`) will be exectued by the strategy\n",
        "    at the end of each round to evaluate the stat of the global\n",
        "    model.\"\"\"\n",
        "    def evaluate_fn(server_round: int, parameters, config):\n",
        "        \"\"\"This function is executed by the strategy it will instantiate\n",
        "        a model and replace its parameters with those from the global model.\n",
        "        The, the model will be evaluate on the test set (recall this is the\n",
        "        whole MNIST test set).\"\"\"\n",
        "\n",
        "        model = Net(num_classes=10)\n",
        "\n",
        "        # set parameters to the model\n",
        "        params_dict = zip(model.state_dict().keys(), parameters)\n",
        "        state_dict = OrderedDict({k: torch.Tensor(v) for k, v in params_dict})\n",
        "        model.load_state_dict(state_dict, strict=True)\n",
        "\n",
        "        # call test\n",
        "        loss, accuracy = test(model, testloader) # <-------------------------- calls the `test` function, just what we did in the centralised setting\n",
        "        return loss, {\"accuracy\": accuracy}\n",
        "\n",
        "    return evaluate_fn\n",
        "\n",
        "\n",
        "# now we can define the strategy\n",
        "strategy = fl.server.strategy.FedAvg(fraction_fit=0.1, # let's sample 10% of the client each round to do local training\n",
        "                                      fraction_evaluate=0.1, # after each round, let's sample 20% of the clients to asses how well the global model is doing\n",
        "                                      min_available_clients=100, # total number of clients available in the experiment\n",
        "                                      evaluate_fn=get_evalulate_fn(testloader)) # a callback to a function that the strategy can execute to evaluate the state of the global model on a centralised dataset\n"
      ]
    },
    {
      "attachments": {},
      "cell_type": "markdown",
      "metadata": {
        "id": "4UV_kBVGRbQT"
      },
      "source": [
        "So far we have:\n",
        "* created the dataset partitions (one for each client)\n",
        "* defined the client class\n",
        "* decided on a strategy to use\n",
        "\n",
        "Now we just need to launch the Flower FL experiment... not so fast! just one final function: let's create another callback that the Simulation Engine will use in order to span VirtualClients. As you can see this is really simple: construct a FlowerClient object, assigning each their own data partition."
      ]
    },
    {
      "cell_type": "code",
      "execution_count": 19,
      "metadata": {
        "id": "frPHAxUg-3Ev"
      },
      "outputs": [],
      "source": [
        "def generate_client_fn(trainloaders, valloaders):\n",
        "    def client_fn(cid: str):\n",
        "        \"\"\"Returns a FlowerClient containing the cid-th data partition\"\"\"\n",
        "\n",
        "        return FlowerClient(trainloader=trainloaders[int(cid)],\n",
        "                            vallodaer=valloaders[int(cid)])\n",
        "    return client_fn\n",
        "\n",
        "client_fn_callback = generate_client_fn(trainloaders, valloaders)"
      ]
    },
    {
      "attachments": {},
      "cell_type": "markdown",
      "metadata": {
        "id": "uJ0swdTqSyuA"
      },
      "source": [
        "Now we are ready to launch the FL experiment using Flower simulation:"
      ]
    },
    {
      "cell_type": "code",
      "execution_count": 20,
      "metadata": {
        "colab": {
          "base_uri": "https://localhost:8080/"
        },
        "id": "VpXEG9cxR9vu",
        "outputId": "9ad8dcea-8004-4c6e-a025-e168da636c88"
      },
      "outputs": [
        {
          "name": "stderr",
          "output_type": "stream",
          "text": [
            "INFO flwr 2023-07-05 00:07:24,654 | app.py:145 | Starting Flower simulation, config: ServerConfig(num_rounds=10, round_timeout=None)\n",
            "INFO:flwr:Starting Flower simulation, config: ServerConfig(num_rounds=10, round_timeout=None)\n",
            "2023-07-05 00:07:27,394\tINFO worker.py:1529 -- Started a local Ray instance. View the dashboard at \u001b[1m\u001b[32m127.0.0.1:8265 \u001b[39m\u001b[22m\n",
            "INFO flwr 2023-07-05 00:07:28,938 | app.py:179 | Flower VCE: Ray initialized with resources: {'CPU': 2.0, 'object_store_memory': 3914550067.0, 'node:172.28.0.12': 1.0, 'memory': 7829100135.0}\n",
            "INFO:flwr:Flower VCE: Ray initialized with resources: {'CPU': 2.0, 'object_store_memory': 3914550067.0, 'node:172.28.0.12': 1.0, 'memory': 7829100135.0}\n",
            "INFO flwr 2023-07-05 00:07:28,951 | server.py:86 | Initializing global parameters\n",
            "INFO:flwr:Initializing global parameters\n",
            "INFO flwr 2023-07-05 00:07:28,965 | server.py:270 | Requesting initial parameters from one random client\n",
            "INFO:flwr:Requesting initial parameters from one random client\n",
            "INFO flwr 2023-07-05 00:07:31,029 | server.py:274 | Received initial parameters from one random client\n",
            "INFO:flwr:Received initial parameters from one random client\n",
            "INFO flwr 2023-07-05 00:07:31,034 | server.py:88 | Evaluating initial parameters\n",
            "INFO:flwr:Evaluating initial parameters\n",
            "INFO flwr 2023-07-05 00:07:33,464 | server.py:91 | initial parameters (loss, other metrics): 182.05746364593506, {'accuracy': 0.0874}\n",
            "INFO:flwr:initial parameters (loss, other metrics): 182.05746364593506, {'accuracy': 0.0874}\n",
            "INFO flwr 2023-07-05 00:07:33,471 | server.py:101 | FL starting\n",
            "INFO:flwr:FL starting\n",
            "DEBUG flwr 2023-07-05 00:07:33,475 | server.py:215 | fit_round 1: strategy sampled 10 clients (out of 100)\n",
            "DEBUG:flwr:fit_round 1: strategy sampled 10 clients (out of 100)\n",
            "DEBUG flwr 2023-07-05 00:07:41,056 | server.py:229 | fit_round 1 received 10 results and 0 failures\n",
            "DEBUG:flwr:fit_round 1 received 10 results and 0 failures\n",
            "WARNING flwr 2023-07-05 00:07:41,100 | fedavg.py:242 | No fit_metrics_aggregation_fn provided\n",
            "WARNING:flwr:No fit_metrics_aggregation_fn provided\n",
            "INFO flwr 2023-07-05 00:07:43,774 | server.py:116 | fit progress: (1, 181.020254611969, {'accuracy': 0.112}, 10.2989019059969)\n",
            "INFO:flwr:fit progress: (1, 181.020254611969, {'accuracy': 0.112}, 10.2989019059969)\n",
            "DEBUG flwr 2023-07-05 00:07:43,780 | server.py:165 | evaluate_round 1: strategy sampled 10 clients (out of 100)\n",
            "DEBUG:flwr:evaluate_round 1: strategy sampled 10 clients (out of 100)\n",
            "DEBUG flwr 2023-07-05 00:07:46,155 | server.py:179 | evaluate_round 1 received 10 results and 0 failures\n",
            "DEBUG:flwr:evaluate_round 1 received 10 results and 0 failures\n",
            "WARNING flwr 2023-07-05 00:07:46,159 | fedavg.py:273 | No evaluate_metrics_aggregation_fn provided\n",
            "WARNING:flwr:No evaluate_metrics_aggregation_fn provided\n",
            "DEBUG flwr 2023-07-05 00:07:46,162 | server.py:215 | fit_round 2: strategy sampled 10 clients (out of 100)\n",
            "DEBUG:flwr:fit_round 2: strategy sampled 10 clients (out of 100)\n",
            "DEBUG flwr 2023-07-05 00:07:50,212 | server.py:229 | fit_round 2 received 10 results and 0 failures\n",
            "DEBUG:flwr:fit_round 2 received 10 results and 0 failures\n",
            "INFO flwr 2023-07-05 00:07:52,993 | server.py:116 | fit progress: (2, 179.67563605308533, {'accuracy': 0.1578}, 19.518075574997056)\n",
            "INFO:flwr:fit progress: (2, 179.67563605308533, {'accuracy': 0.1578}, 19.518075574997056)\n",
            "DEBUG flwr 2023-07-05 00:07:52,997 | server.py:165 | evaluate_round 2: strategy sampled 10 clients (out of 100)\n",
            "DEBUG:flwr:evaluate_round 2: strategy sampled 10 clients (out of 100)\n",
            "DEBUG flwr 2023-07-05 00:07:55,852 | server.py:179 | evaluate_round 2 received 10 results and 0 failures\n",
            "DEBUG:flwr:evaluate_round 2 received 10 results and 0 failures\n",
            "DEBUG flwr 2023-07-05 00:07:55,855 | server.py:215 | fit_round 3: strategy sampled 10 clients (out of 100)\n",
            "DEBUG:flwr:fit_round 3: strategy sampled 10 clients (out of 100)\n",
            "DEBUG flwr 2023-07-05 00:08:00,133 | server.py:229 | fit_round 3 received 10 results and 0 failures\n",
            "DEBUG:flwr:fit_round 3 received 10 results and 0 failures\n",
            "INFO flwr 2023-07-05 00:08:02,592 | server.py:116 | fit progress: (3, 177.04774808883667, {'accuracy': 0.3186}, 29.11651430299753)\n",
            "INFO:flwr:fit progress: (3, 177.04774808883667, {'accuracy': 0.3186}, 29.11651430299753)\n",
            "DEBUG flwr 2023-07-05 00:08:02,596 | server.py:165 | evaluate_round 3: strategy sampled 10 clients (out of 100)\n",
            "DEBUG:flwr:evaluate_round 3: strategy sampled 10 clients (out of 100)\n",
            "DEBUG flwr 2023-07-05 00:08:04,508 | server.py:179 | evaluate_round 3 received 10 results and 0 failures\n",
            "DEBUG:flwr:evaluate_round 3 received 10 results and 0 failures\n",
            "DEBUG flwr 2023-07-05 00:08:04,512 | server.py:215 | fit_round 4: strategy sampled 10 clients (out of 100)\n",
            "DEBUG:flwr:fit_round 4: strategy sampled 10 clients (out of 100)\n",
            "DEBUG flwr 2023-07-05 00:08:07,753 | server.py:229 | fit_round 4 received 10 results and 0 failures\n",
            "DEBUG:flwr:fit_round 4 received 10 results and 0 failures\n",
            "INFO flwr 2023-07-05 00:08:11,234 | server.py:116 | fit progress: (4, 169.28074169158936, {'accuracy': 0.4331}, 37.75880505999885)\n",
            "INFO:flwr:fit progress: (4, 169.28074169158936, {'accuracy': 0.4331}, 37.75880505999885)\n",
            "DEBUG flwr 2023-07-05 00:08:11,245 | server.py:165 | evaluate_round 4: strategy sampled 10 clients (out of 100)\n",
            "DEBUG:flwr:evaluate_round 4: strategy sampled 10 clients (out of 100)\n",
            "DEBUG flwr 2023-07-05 00:08:14,122 | server.py:179 | evaluate_round 4 received 10 results and 0 failures\n",
            "DEBUG:flwr:evaluate_round 4 received 10 results and 0 failures\n",
            "DEBUG flwr 2023-07-05 00:08:14,126 | server.py:215 | fit_round 5: strategy sampled 10 clients (out of 100)\n",
            "DEBUG:flwr:fit_round 5: strategy sampled 10 clients (out of 100)\n",
            "DEBUG flwr 2023-07-05 00:08:17,640 | server.py:229 | fit_round 5 received 10 results and 0 failures\n",
            "DEBUG:flwr:fit_round 5 received 10 results and 0 failures\n",
            "INFO flwr 2023-07-05 00:08:20,180 | server.py:116 | fit progress: (5, 135.78497958183289, {'accuracy': 0.6304}, 46.70456534099867)\n",
            "INFO:flwr:fit progress: (5, 135.78497958183289, {'accuracy': 0.6304}, 46.70456534099867)\n",
            "DEBUG flwr 2023-07-05 00:08:20,184 | server.py:165 | evaluate_round 5: strategy sampled 10 clients (out of 100)\n",
            "DEBUG:flwr:evaluate_round 5: strategy sampled 10 clients (out of 100)\n",
            "DEBUG flwr 2023-07-05 00:08:22,222 | server.py:179 | evaluate_round 5 received 10 results and 0 failures\n",
            "DEBUG:flwr:evaluate_round 5 received 10 results and 0 failures\n",
            "DEBUG flwr 2023-07-05 00:08:22,226 | server.py:215 | fit_round 6: strategy sampled 10 clients (out of 100)\n",
            "DEBUG:flwr:fit_round 6: strategy sampled 10 clients (out of 100)\n",
            "DEBUG flwr 2023-07-05 00:08:26,658 | server.py:229 | fit_round 6 received 10 results and 0 failures\n",
            "DEBUG:flwr:fit_round 6 received 10 results and 0 failures\n",
            "INFO flwr 2023-07-05 00:08:30,131 | server.py:116 | fit progress: (6, 60.82385990023613, {'accuracy': 0.7806}, 56.655631862999144)\n",
            "INFO:flwr:fit progress: (6, 60.82385990023613, {'accuracy': 0.7806}, 56.655631862999144)\n",
            "DEBUG flwr 2023-07-05 00:08:30,137 | server.py:165 | evaluate_round 6: strategy sampled 10 clients (out of 100)\n",
            "DEBUG:flwr:evaluate_round 6: strategy sampled 10 clients (out of 100)\n",
            "DEBUG flwr 2023-07-05 00:08:34,972 | server.py:179 | evaluate_round 6 received 10 results and 0 failures\n",
            "DEBUG:flwr:evaluate_round 6 received 10 results and 0 failures\n",
            "DEBUG flwr 2023-07-05 00:08:34,993 | server.py:215 | fit_round 7: strategy sampled 10 clients (out of 100)\n",
            "DEBUG:flwr:fit_round 7: strategy sampled 10 clients (out of 100)\n",
            "DEBUG flwr 2023-07-05 00:08:46,879 | server.py:229 | fit_round 7 received 10 results and 0 failures\n",
            "DEBUG:flwr:fit_round 7 received 10 results and 0 failures\n",
            "INFO flwr 2023-07-05 00:08:54,770 | server.py:116 | fit progress: (7, 48.99758331477642, {'accuracy': 0.8175}, 81.29495521599893)\n",
            "INFO:flwr:fit progress: (7, 48.99758331477642, {'accuracy': 0.8175}, 81.29495521599893)\n",
            "DEBUG flwr 2023-07-05 00:08:54,778 | server.py:165 | evaluate_round 7: strategy sampled 10 clients (out of 100)\n",
            "DEBUG:flwr:evaluate_round 7: strategy sampled 10 clients (out of 100)\n",
            "DEBUG flwr 2023-07-05 00:08:57,408 | server.py:179 | evaluate_round 7 received 10 results and 0 failures\n",
            "DEBUG:flwr:evaluate_round 7 received 10 results and 0 failures\n",
            "DEBUG flwr 2023-07-05 00:08:57,411 | server.py:215 | fit_round 8: strategy sampled 10 clients (out of 100)\n",
            "DEBUG:flwr:fit_round 8: strategy sampled 10 clients (out of 100)\n",
            "DEBUG flwr 2023-07-05 00:09:06,178 | server.py:229 | fit_round 8 received 10 results and 0 failures\n",
            "DEBUG:flwr:fit_round 8 received 10 results and 0 failures\n",
            "INFO flwr 2023-07-05 00:09:18,449 | server.py:116 | fit progress: (8, 39.252688497304916, {'accuracy': 0.849}, 104.97382202099834)\n",
            "INFO:flwr:fit progress: (8, 39.252688497304916, {'accuracy': 0.849}, 104.97382202099834)\n",
            "DEBUG flwr 2023-07-05 00:09:18,465 | server.py:165 | evaluate_round 8: strategy sampled 10 clients (out of 100)\n",
            "DEBUG:flwr:evaluate_round 8: strategy sampled 10 clients (out of 100)\n",
            "DEBUG flwr 2023-07-05 00:09:21,913 | server.py:179 | evaluate_round 8 received 10 results and 0 failures\n",
            "DEBUG:flwr:evaluate_round 8 received 10 results and 0 failures\n",
            "DEBUG flwr 2023-07-05 00:09:21,919 | server.py:215 | fit_round 9: strategy sampled 10 clients (out of 100)\n",
            "DEBUG:flwr:fit_round 9: strategy sampled 10 clients (out of 100)\n",
            "\u001b[2m\u001b[36m(raylet)\u001b[0m Spilled 2107 MiB, 86 objects, write throughput 63 MiB/s. Set RAY_verbose_spill_logs=0 to disable this message.\n",
            "DEBUG flwr 2023-07-05 00:09:29,847 | server.py:229 | fit_round 9 received 10 results and 0 failures\n",
            "DEBUG:flwr:fit_round 9 received 10 results and 0 failures\n",
            "\u001b[2m\u001b[36m(raylet)\u001b[0m Spilled 5178 MiB, 218 objects, write throughput 132 MiB/s.\n",
            "INFO flwr 2023-07-05 00:09:33,810 | server.py:116 | fit progress: (9, 30.272760584950447, {'accuracy': 0.8855}, 120.33438482699785)\n",
            "INFO:flwr:fit progress: (9, 30.272760584950447, {'accuracy': 0.8855}, 120.33438482699785)\n",
            "DEBUG flwr 2023-07-05 00:09:33,814 | server.py:165 | evaluate_round 9: strategy sampled 10 clients (out of 100)\n",
            "DEBUG:flwr:evaluate_round 9: strategy sampled 10 clients (out of 100)\n",
            "DEBUG flwr 2023-07-05 00:09:35,843 | server.py:179 | evaluate_round 9 received 10 results and 0 failures\n",
            "DEBUG:flwr:evaluate_round 9 received 10 results and 0 failures\n",
            "DEBUG flwr 2023-07-05 00:09:35,847 | server.py:215 | fit_round 10: strategy sampled 10 clients (out of 100)\n",
            "DEBUG:flwr:fit_round 10: strategy sampled 10 clients (out of 100)\n",
            "DEBUG flwr 2023-07-05 00:09:43,587 | server.py:229 | fit_round 10 received 10 results and 0 failures\n",
            "DEBUG:flwr:fit_round 10 received 10 results and 0 failures\n",
            "INFO flwr 2023-07-05 00:09:46,185 | server.py:116 | fit progress: (10, 28.761322118341923, {'accuracy': 0.8987}, 132.70982070399987)\n",
            "INFO:flwr:fit progress: (10, 28.761322118341923, {'accuracy': 0.8987}, 132.70982070399987)\n",
            "DEBUG flwr 2023-07-05 00:09:46,191 | server.py:165 | evaluate_round 10: strategy sampled 10 clients (out of 100)\n",
            "DEBUG:flwr:evaluate_round 10: strategy sampled 10 clients (out of 100)\n",
            "DEBUG flwr 2023-07-05 00:09:49,478 | server.py:179 | evaluate_round 10 received 10 results and 0 failures\n",
            "DEBUG:flwr:evaluate_round 10 received 10 results and 0 failures\n",
            "INFO flwr 2023-07-05 00:09:49,485 | server.py:144 | FL finished in 136.00964083399958\n",
            "INFO:flwr:FL finished in 136.00964083399958\n",
            "INFO flwr 2023-07-05 00:09:49,489 | app.py:202 | app_fit: losses_distributed [(1, 4.586172556877136), (2, 4.547393059730529), (3, 4.479787993431091), (4, 4.28123779296875), (5, 3.4271485567092896), (6, 1.5245469450950622), (7, 1.2111378133296966), (8, 1.063483476638794), (9, 0.7692848935723304), (10, 0.779651765525341)]\n",
            "INFO:flwr:app_fit: losses_distributed [(1, 4.586172556877136), (2, 4.547393059730529), (3, 4.479787993431091), (4, 4.28123779296875), (5, 3.4271485567092896), (6, 1.5245469450950622), (7, 1.2111378133296966), (8, 1.063483476638794), (9, 0.7692848935723304), (10, 0.779651765525341)]\n",
            "INFO flwr 2023-07-05 00:09:49,492 | app.py:203 | app_fit: metrics_distributed {}\n",
            "INFO:flwr:app_fit: metrics_distributed {}\n",
            "INFO flwr 2023-07-05 00:09:49,495 | app.py:204 | app_fit: losses_centralized [(0, 182.05746364593506), (1, 181.020254611969), (2, 179.67563605308533), (3, 177.04774808883667), (4, 169.28074169158936), (5, 135.78497958183289), (6, 60.82385990023613), (7, 48.99758331477642), (8, 39.252688497304916), (9, 30.272760584950447), (10, 28.761322118341923)]\n",
            "INFO:flwr:app_fit: losses_centralized [(0, 182.05746364593506), (1, 181.020254611969), (2, 179.67563605308533), (3, 177.04774808883667), (4, 169.28074169158936), (5, 135.78497958183289), (6, 60.82385990023613), (7, 48.99758331477642), (8, 39.252688497304916), (9, 30.272760584950447), (10, 28.761322118341923)]\n",
            "INFO flwr 2023-07-05 00:09:49,497 | app.py:205 | app_fit: metrics_centralized {'accuracy': [(0, 0.0874), (1, 0.112), (2, 0.1578), (3, 0.3186), (4, 0.4331), (5, 0.6304), (6, 0.7806), (7, 0.8175), (8, 0.849), (9, 0.8855), (10, 0.8987)]}\n",
            "INFO:flwr:app_fit: metrics_centralized {'accuracy': [(0, 0.0874), (1, 0.112), (2, 0.1578), (3, 0.3186), (4, 0.4331), (5, 0.6304), (6, 0.7806), (7, 0.8175), (8, 0.849), (9, 0.8855), (10, 0.8987)]}\n"
          ]
        }
      ],
      "source": [
        "history = fl.simulation.start_simulation(\n",
        "    client_fn=client_fn_callback, # a callback to construct a client\n",
        "    num_clients=100, # total number of clients in the experiment\n",
        "    config=fl.server.ServerConfig(num_rounds=10), # let's run for 10 rounds\n",
        "    strategy=strategy, # the strategy that will orchestrate the whole FL pipeline\n",
        ")"
      ]
    },
    {
      "attachments": {},
      "cell_type": "markdown",
      "metadata": {
        "id": "2hLLbDCEUat7"
      },
      "source": [
        "Doing 10 rounds should take less than 2 minutes on a CPU-only Colab instance <-- Flower Simulation is fast! 🚀\n",
        "\n",
        "You can then use the resturned `History` object to either save the results to disk or do some visualisation (or both of course, or neither if you like chaos). Below you can see how you can plot the centralised accuracy obtainined at the end of each round (including at the very beginning of the experiment) for the _global model_. This is want the function `evaluate_fn()` that we passed to the strategy reports."
      ]
    },
    {
      "cell_type": "code",
      "execution_count": 21,
      "metadata": {
        "colab": {
          "base_uri": "https://localhost:8080/",
          "height": 508
        },
        "id": "EQ8GnlFVTJkF",
        "outputId": "d8eab106-cee9-4266-9082-0944882cdba8"
      },
      "outputs": [
        {
          "name": "stdout",
          "output_type": "stream",
          "text": [
            "history.metrics_centralized = {'accuracy': [(0, 0.0874), (1, 0.112), (2, 0.1578), (3, 0.3186), (4, 0.4331), (5, 0.6304), (6, 0.7806), (7, 0.8175), (8, 0.849), (9, 0.8855), (10, 0.8987)]}\n"
          ]
        },
        {
          "data": {
            "text/plain": [
              "Text(0.5, 1.0, 'MNIST - IID - 100 clients with 10 clients per round')"
            ]
          },
          "execution_count": 21,
          "metadata": {},
          "output_type": "execute_result"
        },
        {
          "data": {
            "image/png": "[encoded data removed]",
            "text/plain": [
              "<Figure size 640x480 with 1 Axes>"
            ]
          },
          "metadata": {},
          "output_type": "display_data"
        }
      ],
      "source": [
        "print(f\"{history.metrics_centralized = }\")\n",
        "\n",
        "global_accuracy_centralised = history.metrics_centralized['accuracy']\n",
        "round = [data[0] for data in global_accuracy_centralised]\n",
        "acc = [100.0*data[1] for data in global_accuracy_centralised]\n",
        "plt.plot(round, acc)\n",
        "plt.grid()\n",
        "plt.ylabel('Accuracy (%)')\n",
        "plt.xlabel('Round')\n",
        "plt.title('MNIST - IID - 100 clients with 10 clients per round')"
      ]
    },
    {
      "cell_type": "code",
      "execution_count": 21,
      "metadata": {
        "id": "b5oglJPNURQE"
      },
      "outputs": [],
      "source": []
    }
  ],
  "metadata": {
    "colab": {
      "provenance": [],
      "toc_visible": true
    },
    "kernelspec": {
      "display_name": "Python 3",
      "name": "python3"
    },
    "language_info": {
      "name": "python"
    }
  },
  "nbformat": 4,
  "nbformat_minor": 0
}
